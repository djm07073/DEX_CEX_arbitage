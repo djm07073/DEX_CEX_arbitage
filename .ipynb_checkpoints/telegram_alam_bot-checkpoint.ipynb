{
 "cells": [
  {
   "cell_type": "code",
   "execution_count": 2,
   "id": "f22bc160",
   "metadata": {},
   "outputs": [],
   "source": [
    "import requests\n",
    "import time"
   ]
  },
  {
   "cell_type": "code",
   "execution_count": 3,
   "id": "937c59bb",
   "metadata": {},
   "outputs": [],
   "source": [
    "def send_to_telegram(message):\n",
    "\n",
    "    apiToken = '5876532042:AAGDqDiDQQsFpieX-ihzdbrKlYhO_tcg8us'\n",
    "    chatID = '5725627235'\n",
    "    apiURL = f'https://api.telegram.org/bot{apiToken}/sendMessage'\n",
    "\n",
    "    try:\n",
    "        response = requests.post(apiURL, json={'chat_id': chatID, 'text': message})\n",
    "        print(response.text)\n",
    "    except Exception as e:\n",
    "        print(e)\n",
    "\n"
   ]
  },
  {
   "cell_type": "code",
   "execution_count": null,
   "id": "0d143964",
   "metadata": {},
   "outputs": [],
   "source": [
    "def requset_data():\n",
    "    \n",
    "    "
   ]
  },
  {
   "cell_type": "code",
   "execution_count": null,
   "id": "ff29e833",
   "metadata": {},
   "outputs": [],
   "source": [
    "def check_arbitage():#아비트리지가 특정 기준 넘으면 true를 반환"
   ]
  },
  {
   "cell_type": "code",
   "execution_count": null,
   "id": "45819081",
   "metadata": {},
   "outputs": [],
   "source": [
    "while True:\n",
    "    # code to request data\n",
    "    data = request_data()\n",
    "    if(check_arbitage() == True):\n",
    "        send_to_telegram(data)\n",
    "\n",
    "    # wait for 10 seconds before making the next request\n",
    "    time.sleep(10)\n"
   ]
  },
  {
   "cell_type": "code",
   "execution_count": null,
   "id": "0fa738b1",
   "metadata": {},
   "outputs": [],
   "source": []
  }
 ],
 "metadata": {
  "kernelspec": {
   "display_name": "Python 3 (ipykernel)",
   "language": "python",
   "name": "python3"
  },
  "language_info": {
   "codemirror_mode": {
    "name": "ipython",
    "version": 3
   },
   "file_extension": ".py",
   "mimetype": "text/x-python",
   "name": "python",
   "nbconvert_exporter": "python",
   "pygments_lexer": "ipython3",
   "version": "3.9.13"
  },
  "vscode": {
   "interpreter": {
    "hash": "b572ebdf7d3a03d542a0c5e11992b4ee1c84209b59be8b04538329cd0d388154"
   }
  }
 },
 "nbformat": 4,
 "nbformat_minor": 5
}
